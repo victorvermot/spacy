{
  "nbformat": 4,
  "nbformat_minor": 0,
  "metadata": {
    "colab": {
      "name": "Spacy.ipynb",
      "provenance": [],
      "collapsed_sections": [],
      "include_colab_link": true
    },
    "kernelspec": {
      "name": "python3",
      "display_name": "Python 3"
    }
  },
  "cells": [
    {
      "cell_type": "markdown",
      "metadata": {
        "id": "view-in-github",
        "colab_type": "text"
      },
      "source": [
        "<a href=\"https://colab.research.google.com/github/jasonola/spacy/blob/master/Spacy.ipynb\" target=\"_parent\"><img src=\"https://colab.research.google.com/assets/colab-badge.svg\" alt=\"Open In Colab\"/></a>"
      ]
    },
    {
      "cell_type": "markdown",
      "metadata": {
        "id": "lr_D456Wu-9r",
        "colab_type": "text"
      },
      "source": [
        "> Notes : \n",
        "\n",
        "\n",
        "*   Les instructions pour commenter votre code sont sur le moodle du cours, dans la section \"Commenter du code\".\n",
        "*   Pour installer des librairies dans le colab, utilisez la commande \n",
        "\n",
        "\n",
        "```\n",
        "!pip install\n",
        "```"
      ]
    },
    {
      "cell_type": "markdown",
      "metadata": {
        "id": "78QrmsKvlU2K",
        "colab_type": "text"
      },
      "source": [
        "a) Téléchargez la liste de romans en .txt présente ici https://drive.switch.ch/index.php/s/b5j3otbaWiaymZ4. Pour information, les originaux en .xml sont également disponibles, ainsi que le script de conversion `xml_book_parser`. \n",
        "\n",
        "> De cette manière, s'il y a des changements à opérer dans la conversion (et le traitement des espaces, notamment), vous pourrez toujours refaire l'opération.\n",
        "\n",
        "\n",
        "\n"
      ]
    },
    {
      "cell_type": "code",
      "metadata": {
        "id": "gYdcYpYLG_oF",
        "colab_type": "code",
        "colab": {}
      },
      "source": [
        "#Insérer votre code ici\n"
      ],
      "execution_count": 0,
      "outputs": []
    },
    {
      "cell_type": "code",
      "metadata": {
        "id": "pyVqo2xElt4N",
        "colab_type": "code",
        "colab": {}
      },
      "source": [
        ""
      ],
      "execution_count": 0,
      "outputs": []
    },
    {
      "cell_type": "code",
      "metadata": {
        "id": "zrP2_aVFmRQC",
        "colab_type": "code",
        "colab": {}
      },
      "source": [
        ""
      ],
      "execution_count": 0,
      "outputs": []
    },
    {
      "cell_type": "code",
      "metadata": {
        "id": "zOgS0EnEmXcA",
        "colab_type": "code",
        "colab": {}
      },
      "source": [
        ""
      ],
      "execution_count": 0,
      "outputs": []
    },
    {
      "cell_type": "markdown",
      "metadata": {
        "id": "9Rkvf80oTfl2",
        "colab_type": "text"
      },
      "source": [
        "b) Le code présent dans le colab  [Spacy_pipeline](https://colab.research.google.com/drive/1knexo5mQqH9bLstERYefwNx0JtV45qt0) sert à identifier les personnages d'un roman et toutes leurs occurrences à l'aide de Spacy. \n",
        "*   La fonction `spacy_char_pipe` prend en input un roman en .txt où chaque ligne est un paragraphe, et enregistre un fichier json contenant la liste de tous les personnages triée par nombre d'occurrences, et la liste des paragraphes contenant ces occurrences.\n",
        "*   La fonction `spacy_df_pipe` prend en input un roman en .txt où chaque ligne est un paragraphe, et enregistre un fichier .csv contenant un dataframe à cinq colonnes (name, start_pos, end_pos, tag, score) où chaque ligne est une occurrence d'entité nommée reconnue par Spacy. \n",
        "\n",
        "Documentez chacune des fonctions présentes dans le colab (à la manière de la documentation de DHTK, par exemple ici https://gitlab.com/dhtk/dhtk/-/blob/testing/dhtk/common/book.py) pour vous assurer d'avoir bien compris le rôle de chacune d'entre elles."
      ]
    },
    {
      "cell_type": "markdown",
      "metadata": {
        "id": "3TNErio4oiVZ",
        "colab_type": "text"
      },
      "source": [
        "c) A l'aide de la librairie Python `dataclasses` (https://docs.python.org/3/library/dataclasses.html), transformez le code fonctionnel présent dans le colab \"Spacy_pipeline\" en un code orienté objet. \n",
        "\n",
        "\n",
        "\n",
        "\n",
        "> Vous pouvez trouver des tutoriels en ligne pour comprendre les data classes, par exemple ici : http://zetcode.com/python/dataclass/."
      ]
    },
    {
      "cell_type": "code",
      "metadata": {
        "id": "eAM00Et9L6VI",
        "colab_type": "code",
        "outputId": "c346c603-f28a-4abd-b813-107bf7e5a50a",
        "colab": {
          "base_uri": "https://localhost:8080/",
          "height": 428
        }
      },
      "source": [
        "!python -m spacy download en_core_web_lg  #download the spacy model"
      ],
      "execution_count": 0,
      "outputs": [
        {
          "output_type": "stream",
          "text": [
            "Requirement already satisfied: en_core_web_lg==2.2.5 from https://github.com/explosion/spacy-models/releases/download/en_core_web_lg-2.2.5/en_core_web_lg-2.2.5.tar.gz#egg=en_core_web_lg==2.2.5 in /usr/local/lib/python3.6/dist-packages (2.2.5)\n",
            "Requirement already satisfied: spacy>=2.2.2 in /usr/local/lib/python3.6/dist-packages (from en_core_web_lg==2.2.5) (2.2.4)\n",
            "Requirement already satisfied: setuptools in /usr/local/lib/python3.6/dist-packages (from spacy>=2.2.2->en_core_web_lg==2.2.5) (46.1.3)\n",
            "Requirement already satisfied: blis<0.5.0,>=0.4.0 in /usr/local/lib/python3.6/dist-packages (from spacy>=2.2.2->en_core_web_lg==2.2.5) (0.4.1)\n",
            "Requirement already satisfied: wasabi<1.1.0,>=0.4.0 in /usr/local/lib/python3.6/dist-packages (from spacy>=2.2.2->en_core_web_lg==2.2.5) (0.6.0)\n",
            "Requirement already satisfied: cymem<2.1.0,>=2.0.2 in /usr/local/lib/python3.6/dist-packages (from spacy>=2.2.2->en_core_web_lg==2.2.5) (2.0.3)\n",
            "Requirement already satisfied: murmurhash<1.1.0,>=0.28.0 in /usr/local/lib/python3.6/dist-packages (from spacy>=2.2.2->en_core_web_lg==2.2.5) (1.0.2)\n",
            "Requirement already satisfied: thinc==7.4.0 in /usr/local/lib/python3.6/dist-packages (from spacy>=2.2.2->en_core_web_lg==2.2.5) (7.4.0)\n",
            "Requirement already satisfied: srsly<1.1.0,>=1.0.2 in /usr/local/lib/python3.6/dist-packages (from spacy>=2.2.2->en_core_web_lg==2.2.5) (1.0.2)\n",
            "Requirement already satisfied: requests<3.0.0,>=2.13.0 in /usr/local/lib/python3.6/dist-packages (from spacy>=2.2.2->en_core_web_lg==2.2.5) (2.23.0)\n",
            "Requirement already satisfied: tqdm<5.0.0,>=4.38.0 in /usr/local/lib/python3.6/dist-packages (from spacy>=2.2.2->en_core_web_lg==2.2.5) (4.41.1)\n",
            "Requirement already satisfied: catalogue<1.1.0,>=0.0.7 in /usr/local/lib/python3.6/dist-packages (from spacy>=2.2.2->en_core_web_lg==2.2.5) (1.0.0)\n",
            "Requirement already satisfied: preshed<3.1.0,>=3.0.2 in /usr/local/lib/python3.6/dist-packages (from spacy>=2.2.2->en_core_web_lg==2.2.5) (3.0.2)\n",
            "Requirement already satisfied: plac<1.2.0,>=0.9.6 in /usr/local/lib/python3.6/dist-packages (from spacy>=2.2.2->en_core_web_lg==2.2.5) (1.1.3)\n",
            "Requirement already satisfied: numpy>=1.15.0 in /usr/local/lib/python3.6/dist-packages (from spacy>=2.2.2->en_core_web_lg==2.2.5) (1.18.4)\n",
            "Requirement already satisfied: idna<3,>=2.5 in /usr/local/lib/python3.6/dist-packages (from requests<3.0.0,>=2.13.0->spacy>=2.2.2->en_core_web_lg==2.2.5) (2.9)\n",
            "Requirement already satisfied: chardet<4,>=3.0.2 in /usr/local/lib/python3.6/dist-packages (from requests<3.0.0,>=2.13.0->spacy>=2.2.2->en_core_web_lg==2.2.5) (3.0.4)\n",
            "Requirement already satisfied: certifi>=2017.4.17 in /usr/local/lib/python3.6/dist-packages (from requests<3.0.0,>=2.13.0->spacy>=2.2.2->en_core_web_lg==2.2.5) (2020.4.5.1)\n",
            "Requirement already satisfied: urllib3!=1.25.0,!=1.25.1,<1.26,>=1.21.1 in /usr/local/lib/python3.6/dist-packages (from requests<3.0.0,>=2.13.0->spacy>=2.2.2->en_core_web_lg==2.2.5) (1.24.3)\n",
            "Requirement already satisfied: importlib-metadata>=0.20; python_version < \"3.8\" in /usr/local/lib/python3.6/dist-packages (from catalogue<1.1.0,>=0.0.7->spacy>=2.2.2->en_core_web_lg==2.2.5) (1.6.0)\n",
            "Requirement already satisfied: zipp>=0.5 in /usr/local/lib/python3.6/dist-packages (from importlib-metadata>=0.20; python_version < \"3.8\"->catalogue<1.1.0,>=0.0.7->spacy>=2.2.2->en_core_web_lg==2.2.5) (3.1.0)\n",
            "\u001b[38;5;2m✔ Download and installation successful\u001b[0m\n",
            "You can now load the model via spacy.load('en_core_web_lg')\n"
          ],
          "name": "stdout"
        }
      ]
    },
    {
      "cell_type": "code",
      "metadata": {
        "id": "_gNDYoO6Lz8k",
        "colab_type": "code",
        "colab": {}
      },
      "source": [
        "import spacy\n",
        "from spacy import displacy\n",
        "from spacy.symbols import nsubj, VERB\n",
        "import numpy as np\n",
        "from tqdm import tqdm\n",
        "from collections import Counter, defaultdict\n",
        "import json\n",
        "import pandas\n",
        "from dataclasses import dataclass\n",
        "import en_core_web_lg"
      ],
      "execution_count": 0,
      "outputs": []
    },
    {
      "cell_type": "code",
      "metadata": {
        "id": "2qhDG6xOMeMM",
        "colab_type": "code",
        "outputId": "dc650d8b-7089-456f-921a-a375d716dd36",
        "colab": {
          "resources": {
            "http://localhost:8080/nbextensions/google.colab/files.js": {
              "data": "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",
              "ok": true,
              "headers": [
                [
                  "content-type",
                  "application/javascript"
                ]
              ],
              "status": 200,
              "status_text": ""
            }
          },
          "base_uri": "https://localhost:8080/",
          "height": 71
        }
      },
      "source": [
        "from google.colab import files\n",
        "book_txt = files.upload()"
      ],
      "execution_count": 0,
      "outputs": [
        {
          "output_type": "display_data",
          "data": {
            "text/html": [
              "\n",
              "     <input type=\"file\" id=\"files-18cbc1da-f971-45f5-9c9b-4c98d54b2643\" name=\"files[]\" multiple disabled />\n",
              "     <output id=\"result-18cbc1da-f971-45f5-9c9b-4c98d54b2643\">\n",
              "      Upload widget is only available when the cell has been executed in the\n",
              "      current browser session. Please rerun this cell to enable.\n",
              "      </output>\n",
              "      <script src=\"/nbextensions/google.colab/files.js\"></script> "
            ],
            "text/plain": [
              "<IPython.core.display.HTML object>"
            ]
          },
          "metadata": {
            "tags": []
          }
        },
        {
          "output_type": "stream",
          "text": [
            "Saving BabyJanesMissionbyReginaldParnell36574.txt to BabyJanesMissionbyReginaldParnell36574.txt\n"
          ],
          "name": "stdout"
        }
      ]
    },
    {
      "cell_type": "code",
      "metadata": {
        "id": "Vj6eC0sjMjBC",
        "colab_type": "code",
        "outputId": "d3ebbcbb-a6eb-4ffb-bf77-b08e57e17a71",
        "colab": {
          "base_uri": "https://localhost:8080/",
          "height": 34
        }
      },
      "source": [
        "book_path = list(book_txt.keys())[0] #to see the file name that we uploaded\n",
        "book_path"
      ],
      "execution_count": 0,
      "outputs": [
        {
          "output_type": "execute_result",
          "data": {
            "text/plain": [
              "'BabyJanesMissionbyReginaldParnell36574.txt'"
            ]
          },
          "metadata": {
            "tags": []
          },
          "execution_count": 5
        }
      ]
    },
    {
      "cell_type": "code",
      "metadata": {
        "id": "BGMnBZHHMxW7",
        "colab_type": "code",
        "colab": {}
      },
      "source": [
        "nlp = en_core_web_lg.load() # load the model"
      ],
      "execution_count": 0,
      "outputs": []
    },
    {
      "cell_type": "code",
      "metadata": {
        "colab_type": "code",
        "id": "nsxEheR_YhWZ",
        "colab": {}
      },
      "source": [
        "#Insérer votre code ici\n",
        "# Classe principale Book\n",
        "@dataclass\n",
        "class Book:\n",
        "  path:str\n",
        "  def get_name(self):\n",
        "    \"\"\"Getting the name of the book between the '/'and the '.'\"\"\"\n",
        "    name = self.path.split('/')[-1]\n",
        "    name = name.split('.')[0]\n",
        "    return name\n",
        "  def get_lines(self):\n",
        "    with open(self.path, 'r', encoding='utf-8', newline='\\n') as file:\n",
        "        content = file.read()\n",
        "        lines = content.split('\\n')\n",
        "        return lines\n",
        "  def spacy_ner(self):\n",
        "    paragraphs = []\n",
        "    len_diffs = []\n",
        "    for line in tqdm(self.get_lines()):\n",
        "        line_length = len(line)\n",
        "        paragraph = Line.spacy_tag(line) \n",
        "        len_diff = line_length - len(paragraph.text)\n",
        "        paragraphs.append(paragraph)\n",
        "        len_diffs.append(len_diff)    \n",
        "    return paragraphs, len_diffs\n",
        "  def spacy_char_pipe(self):\n",
        "    name = self.get_name()\n",
        "    \n",
        "    paragraphs, _ = self.spacy_ner()\n",
        "    test = Character(paragraphs)\n",
        "    characters_sorted, context = test.spacy_characters(paragraphs)\n",
        "    json_char = {'counter': characters_sorted, 'context': str(context)}\n",
        "        \n",
        "    with open(f'./Data/{name}_characters_spacy.json', 'w', encoding='utf-8') as file:\n",
        "        json.dump(json_char, file)\n",
        "                  \n",
        "    return characters_sorted, context\n",
        "  def spacy_df_pipe(self):\n",
        "    entities = []\n",
        "    offset = 0\n",
        "    \n",
        "    paragraphs, len_diffs = self.spacy_ner()\n",
        "    \n",
        "    for i in range(len(paragraphs)):\n",
        "        paragraph = paragraphs[i]\n",
        "        len_diff = len_diffs[i]\n",
        "        for ent in paragraph.ents:\n",
        "\n",
        "            entity = {\n",
        "                'name': ent.text, \n",
        "                'start_pos': offset + ent.start_char, \n",
        "                'end_pos': offset + ent.end_char, \n",
        "                'tag': ent.label_, \n",
        "                'score': 1, \n",
        "            }\n",
        "\n",
        "            entities.append(entity)\n",
        "\n",
        "        offset += len(paragraph.text) + len_diff + 1\n",
        "\n",
        "    entity_df = pandas.DataFrame(entities)\n",
        "\n",
        "    name = self.get_name()\n",
        "    #entity_df.to_csv(f'./Data/{name}_spacy.csv')\n",
        "    \n",
        "    return entity_df\n",
        "\n"
      ],
      "execution_count": 0,
      "outputs": []
    },
    {
      "cell_type": "code",
      "metadata": {
        "id": "u_JfHtDgl2RN",
        "colab_type": "code",
        "colab": {}
      },
      "source": [
        "# spacy_tag dans une autre classe qu'on appele depuis spacy_ner dans la classe Book !\n",
        "@dataclass\n",
        "class Line:\n",
        "  def spacy_tag(self):\n",
        "    paragraph = nlp(self)\n",
        "    return paragraph\n"
      ],
      "execution_count": 0,
      "outputs": []
    },
    {
      "cell_type": "code",
      "metadata": {
        "colab_type": "code",
        "id": "8BFlF9KsYZk-",
        "colab": {}
      },
      "source": [
        "#Classe Character\n",
        "@dataclass\n",
        "# Determine if the entity is a person\n",
        "class Character:\n",
        "\n",
        "  def __init__(self, paragraphs):\n",
        "    self.paragraphs = paragraphs\n",
        "\n",
        "  def is_char(self, entity):\n",
        "    return entity.label == 'PERSON'\n",
        "\n",
        "  def count_char(self, paragraph):\n",
        "    nb_char_par = Counter()\n",
        "\n",
        "    for entity in paragraph.ents:\n",
        "      if self.is_char(entity):\n",
        "        nb_char_par[entity.text] += 1\n",
        "\n",
        "    return nb_char_par\n",
        "\n",
        "  def sort_char(self, char_list):\n",
        "    characters_sorted = char_list.most_common()\n",
        "    return characters_sorted\n",
        "\n",
        "  def spacy_characters(self, paragraphs):\n",
        "    nb_characters = Counter()\n",
        "    context = defaultdict(list)\n",
        "\n",
        "    for paragraph in paragraphs:\n",
        "      nb_char_par = self.count_char(paragraph)\n",
        "      nb_characters.update(nb_char_par)\n",
        "      for entity in nb_char_par:\n",
        "        context[entity].append(paragraph)\n",
        "\n",
        "    characters_sorted = self.sort_char(nb_characters)\n",
        "    return characters_sorted, context"
      ],
      "execution_count": 0,
      "outputs": []
    },
    {
      "cell_type": "code",
      "metadata": {
        "id": "S6YAHU9pPKvA",
        "colab_type": "code",
        "outputId": "d3d16364-e85e-404e-ad3d-b6b2e77ff0f4",
        "colab": {
          "base_uri": "https://localhost:8080/",
          "height": 351
        }
      },
      "source": [
        "# Tests of methods, je fais chaque methode l'une apres l'autre il y a des methodes \n",
        "# qui demandent d'autres methodes genre spacy_ner qui demande spacy_tag, enlevez juste le # devant un et run\n",
        "p = Book(book_path)\n",
        "#p.get_name() # Works !\n",
        "#p.get_lines() # Works !\n",
        "#p.spacy_ner() # Works !!!\n",
        "\n",
        "\n",
        "#paragraphs, _ = p.spacy_ner()\n",
        "#test = Character(paragraphs)\n",
        "#test.spacy_characters()\n",
        "p.spacy_char_pipe() # un truc qui va pas \n",
        "#p.spacy_df_pipe() # ca marche quand je commente la partie .to_csv"
      ],
      "execution_count": 0,
      "outputs": [
        {
          "output_type": "stream",
          "text": [
            "100%|██████████| 730/730 [00:09<00:00, 75.00it/s]\n"
          ],
          "name": "stderr"
        },
        {
          "output_type": "error",
          "ename": "FileNotFoundError",
          "evalue": "ignored",
          "traceback": [
            "\u001b[0;31m---------------------------------------------------------------------------\u001b[0m",
            "\u001b[0;31mFileNotFoundError\u001b[0m                         Traceback (most recent call last)",
            "\u001b[0;32m<ipython-input-16-9d3bce78c869>\u001b[0m in \u001b[0;36m<module>\u001b[0;34m()\u001b[0m\n\u001b[1;32m      8\u001b[0m \u001b[0;31m#test = Character(paragraphs)\u001b[0m\u001b[0;34m\u001b[0m\u001b[0;34m\u001b[0m\u001b[0;34m\u001b[0m\u001b[0m\n\u001b[1;32m      9\u001b[0m \u001b[0;31m#test.spacy_characters()\u001b[0m\u001b[0;34m\u001b[0m\u001b[0;34m\u001b[0m\u001b[0;34m\u001b[0m\u001b[0m\n\u001b[0;32m---> 10\u001b[0;31m \u001b[0mp\u001b[0m\u001b[0;34m.\u001b[0m\u001b[0mspacy_char_pipe\u001b[0m\u001b[0;34m(\u001b[0m\u001b[0;34m)\u001b[0m \u001b[0;31m# un truc qui va pas\u001b[0m\u001b[0;34m\u001b[0m\u001b[0;34m\u001b[0m\u001b[0m\n\u001b[0m\u001b[1;32m     11\u001b[0m \u001b[0;31m#p.spacy_df_pipe() # ca marche quand je commente la partie .to_csv\u001b[0m\u001b[0;34m\u001b[0m\u001b[0;34m\u001b[0m\u001b[0;34m\u001b[0m\u001b[0m\n",
            "\u001b[0;32m<ipython-input-15-bbaf4206e860>\u001b[0m in \u001b[0;36mspacy_char_pipe\u001b[0;34m(self)\u001b[0m\n\u001b[1;32m     30\u001b[0m     \u001b[0mjson_char\u001b[0m \u001b[0;34m=\u001b[0m \u001b[0;34m{\u001b[0m\u001b[0;34m'counter'\u001b[0m\u001b[0;34m:\u001b[0m \u001b[0mcharacters_sorted\u001b[0m\u001b[0;34m,\u001b[0m \u001b[0;34m'context'\u001b[0m\u001b[0;34m:\u001b[0m \u001b[0mstr\u001b[0m\u001b[0;34m(\u001b[0m\u001b[0mcontext\u001b[0m\u001b[0;34m)\u001b[0m\u001b[0;34m}\u001b[0m\u001b[0;34m\u001b[0m\u001b[0;34m\u001b[0m\u001b[0m\n\u001b[1;32m     31\u001b[0m \u001b[0;34m\u001b[0m\u001b[0m\n\u001b[0;32m---> 32\u001b[0;31m     \u001b[0;32mwith\u001b[0m \u001b[0mopen\u001b[0m\u001b[0;34m(\u001b[0m\u001b[0;34mf'./Data/{name}_characters_spacy.json'\u001b[0m\u001b[0;34m,\u001b[0m \u001b[0;34m'w'\u001b[0m\u001b[0;34m,\u001b[0m \u001b[0mencoding\u001b[0m\u001b[0;34m=\u001b[0m\u001b[0;34m'utf-8'\u001b[0m\u001b[0;34m)\u001b[0m \u001b[0;32mas\u001b[0m \u001b[0mfile\u001b[0m\u001b[0;34m:\u001b[0m\u001b[0;34m\u001b[0m\u001b[0;34m\u001b[0m\u001b[0m\n\u001b[0m\u001b[1;32m     33\u001b[0m         \u001b[0mjson\u001b[0m\u001b[0;34m.\u001b[0m\u001b[0mdump\u001b[0m\u001b[0;34m(\u001b[0m\u001b[0mjson_char\u001b[0m\u001b[0;34m,\u001b[0m \u001b[0mfile\u001b[0m\u001b[0;34m)\u001b[0m\u001b[0;34m\u001b[0m\u001b[0;34m\u001b[0m\u001b[0m\n\u001b[1;32m     34\u001b[0m \u001b[0;34m\u001b[0m\u001b[0m\n",
            "\u001b[0;31mFileNotFoundError\u001b[0m: [Errno 2] No such file or directory: './Data/BabyJanesMissionbyReginaldParnell36574_characters_spacy.json'"
          ]
        }
      ]
    },
    {
      "cell_type": "code",
      "metadata": {
        "id": "5yNochR0NZra",
        "colab_type": "code",
        "outputId": "0e8aef60-bad7-4b2b-e40a-e243ff81841d",
        "colab": {
          "base_uri": "https://localhost:8080/",
          "height": 221
        }
      },
      "source": [
        "#Insérer votre code ici\n",
        "\n",
        "exemple_string = nlp(\"This text serves as a very nice exemple. And this part of the text too\")\n",
        "\n",
        "\n",
        "# Code pour utiliser un texte importé\n",
        "#chemin = \"/content/AHorsesTalebyMarkTwain1086.txt\"\n",
        "#with open(chemin, \"r\") as f:\n",
        "  #my_book = f.read()\n",
        "  #text_exemple = nlp(my_book)\n",
        "\n",
        "# Ces deux variables permettent de mettre du texte en gras\n",
        "BOLD = '\\033[1m'\n",
        "END = '\\033[0m'\n",
        "\n",
        "@dataclass\n",
        "class SpacyFeatures:\n",
        "  # Affichage des POS tag\n",
        "  def get_tag(self):\n",
        "    for token in self:\n",
        "      print(BOLD + \"Text  :  Type  :  children\" + END)\n",
        "      print(f\"{token.text} | {token.pos_} | {[child for child in token.children]} \\n\")\n",
        "  # Affichage des noun chunks et des dépendences \n",
        "  def noun_chunk(self):\n",
        "    for chunk in self.noun_chunks:\n",
        "      print(BOLD + \"Text  :  Main Noun  :  Dependency  :  Completed object\" + END)\n",
        "      print(f\"{chunk.text} | {chunk.root.text} | {chunk.root.dep_} | {chunk.root.head.text} \\n\")\n",
        "  #Affichage de verbes\n",
        "  def get_verbs(self):\n",
        "    verbs = set()\n",
        "    for possible_subject in self:\n",
        "      if possible_subject.dep == nsubj and possible_subject.head.pos == VERB:\n",
        "        verbs.add(possible_subject.head)\n",
        "    print(verbs)\n",
        "\n",
        "  #Affichage du parsing tree\n",
        "  def parsing_tree(self):\n",
        "    displacy.render(self, style='dep', jupyter=True, options={'distance': 130})\n",
        "    displacy.render(self, style='ent', jupyter=True)\n",
        "  \n",
        "  #Séparateur de phrases\n",
        "  def get_sentence(self):\n",
        "    for sent in self.sents:\n",
        "      print(sent.text)\n",
        "\n",
        "  #Trouver des entités nommées, des phrases et des concepts\n",
        "  def get_entity(self):\n",
        "    for entity in self.ents:\n",
        "      print(entity.text, entity.label_)\n",
        "\n",
        "SpacyFeatures.noun_chunk(exemple_string)\n",
        "#SpacyFeatures.parsing_tree(exemple_string)\n"
      ],
      "execution_count": 0,
      "outputs": [
        {
          "output_type": "stream",
          "text": [
            "\u001b[1mText  :  Main Noun  :  Dependency  :  Completed object\u001b[0m\n",
            "This text | text | nsubj | serves \n",
            "\n",
            "\u001b[1mText  :  Main Noun  :  Dependency  :  Completed object\u001b[0m\n",
            "a very nice exemple | exemple | pobj | as \n",
            "\n",
            "\u001b[1mText  :  Main Noun  :  Dependency  :  Completed object\u001b[0m\n",
            "And this part | part | ROOT | part \n",
            "\n",
            "\u001b[1mText  :  Main Noun  :  Dependency  :  Completed object\u001b[0m\n",
            "the text | text | pobj | of \n",
            "\n"
          ],
          "name": "stdout"
        }
      ]
    },
    {
      "cell_type": "markdown",
      "metadata": {
        "id": "4CayJGXen2LM",
        "colab_type": "text"
      },
      "source": [
        "d) A l'aide de la librairie Spacy https://spacy.io/, intégrez les autres fonctions disponible dans Spacy  (comme montré [ici](https://spacy.io/usage/linguistic-features))  dans la classe que vous avez créée au point *b)*\n",
        "\n",
        "\n",
        "> Pour installer Spacy : suivre les consignes présentes sur ce lien https://spacy.io/usage.\n",
        "\n",
        "\n",
        "\n"
      ]
    }
  ]
}